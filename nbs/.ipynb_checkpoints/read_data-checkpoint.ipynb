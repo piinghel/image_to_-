{
 "cells": [
  {
   "cell_type": "code",
   "execution_count": 31,
   "id": "cf71503b-5d8b-42a1-94f9-92429aa5f8cb",
   "metadata": {},
   "outputs": [],
   "source": [
    "import polars as pl\n",
    "import datetime as dt"
   ]
  },
  {
   "cell_type": "code",
   "execution_count": 32,
   "id": "08fd1e3b-18c0-4867-b722-b8070f24e288",
   "metadata": {},
   "outputs": [],
   "source": [
    "# global variables\n",
    "DATE_COLUMN = \"date\"\n",
    "ASSET_ID_COLUMN = \"asset_id\""
   ]
  },
  {
   "cell_type": "code",
   "execution_count": 41,
   "id": "a7688a9b-cee6-4cdf-afab-299d48ad8638",
   "metadata": {},
   "outputs": [
    {
     "data": {
      "text/html": [
       "<div><style>\n",
       ".dataframe > thead > tr,\n",
       ".dataframe > tbody > tr {\n",
       "  text-align: right;\n",
       "  white-space: pre-wrap;\n",
       "}\n",
       "</style>\n",
       "<small>shape: (5, 4)</small><table border=\"1\" class=\"dataframe\"><thead><tr><th>asset_id</th><th>bb_global_asset_id</th><th>bics_level_1_sector_name</th><th>bics_level_2_industry_group_name</th></tr><tr><td>str</td><td>str</td><td>str</td><td>str</td></tr></thead><tbody><tr><td>&quot;2061517D US Eq…</td><td>&quot;BBG000DFMXT3 F…</td><td>&quot;Technology&quot;</td><td>&quot;Software &amp; Tec…</td></tr><tr><td>&quot;2150994D US Eq…</td><td>&quot;BBG000BG1DH3 F…</td><td>&quot;Technology&quot;</td><td>&quot;Tech Hardware …</td></tr><tr><td>&quot;2297249D US Eq…</td><td>&quot;BBG00BFHD827 F…</td><td>&quot;Communications…</td><td>&quot;Media&quot;</td></tr><tr><td>&quot;2297264D US Eq…</td><td>&quot;BBG00BFHDCV6 F…</td><td>&quot;Communications…</td><td>&quot;Media&quot;</td></tr><tr><td>&quot;2297267D US Eq…</td><td>&quot;BBG00BFHDFR4 F…</td><td>&quot;Communications…</td><td>&quot;Media&quot;</td></tr></tbody></table></div>"
      ],
      "text/plain": [
       "shape: (5, 4)\n",
       "┌────────────────────┬────────────────────┬──────────────────────────┬──────────────────────────────────┐\n",
       "│ asset_id           ┆ bb_global_asset_id ┆ bics_level_1_sector_name ┆ bics_level_2_industry_group_name │\n",
       "│ ---                ┆ ---                ┆ ---                      ┆ ---                              │\n",
       "│ str                ┆ str                ┆ str                      ┆ str                              │\n",
       "╞════════════════════╪════════════════════╪══════════════════════════╪══════════════════════════════════╡\n",
       "│ 2061517D US Equity ┆ BBG000DFMXT3 FIGI  ┆ Technology               ┆ Software & Tech Services         │\n",
       "│ 2150994D US Equity ┆ BBG000BG1DH3 FIGI  ┆ Technology               ┆ Tech Hardware & Semiconductors   │\n",
       "│ 2297249D US Equity ┆ BBG00BFHD827 FIGI  ┆ Communications           ┆ Media                            │\n",
       "│ 2297264D US Equity ┆ BBG00BFHDCV6 FIGI  ┆ Communications           ┆ Media                            │\n",
       "│ 2297267D US Equity ┆ BBG00BFHDFR4 FIGI  ┆ Communications           ┆ Media                            │\n",
       "└────────────────────┴────────────────────┴──────────────────────────┴──────────────────────────────────┘"
      ]
     },
     "execution_count": 41,
     "metadata": {},
     "output_type": "execute_result"
    }
   ],
   "source": [
    "bics_classification.head()"
   ]
  },
  {
   "cell_type": "code",
   "execution_count": 43,
   "id": "a4507e7a-80f8-4fe2-9daf-83d85feaedb5",
   "metadata": {},
   "outputs": [],
   "source": [
    "# market / benchmark (russell 1000)\n",
    "df_market = (pl.read_csv(\"../data/riy_index.csv\")\n",
    "               .pipe(pl.DataFrame)\n",
    "               .with_columns(pl.col(DATE_COLUMN).str.to_date())\n",
    "               .lazy()\n",
    "               .rename({\"last_px\": \"px_market\"})\n",
    "               .sort([DATE_COLUMN])\n",
    "               .collect()\n",
    "            )\n",
    "\n",
    "bics_classification = (pl.read_csv(\"../data/bics_classification.csv\")\n",
    "                         .select([\"bb_global_asset_id\", \"bics_level_1_sector_name\", \"bics_level_2_industry_group_name\"])\n",
    "                      )\n",
    "\n",
    "# general dataset\n",
    "df_data = (pl.scan_parquet(\"../data/russell1K_long_format_1995_2024_v1.parquet\")\n",
    "                 .with_columns(pl.col(DATE_COLUMN).cast(pl.Date))\n",
    "                 .sort([ASSET_ID_COLUMN, DATE_COLUMN])\n",
    "                 .join(df_market.lazy().select([DATE_COLUMN, \"px_market\"]), on=DATE_COLUMN, how=\"left\")\n",
    "                 .with_columns(pl.lit(1).alias(\"dummy\"))\n",
    "                 .select(pl.exclude(\"dummy\"))\n",
    "                 .with_columns(pl.col([\"gics_sector_name\", \"gics_industry_name\"]).cast(pl.Categorical))\n",
    "                 .join(bics_classification.lazy(), left_on=\"asset_id\", right_on=\"bb_global_asset_id\", how=\"left\")\n",
    "                 .sort(DATE_COLUMN)\n",
    "                 .collect()\n",
    ")\n",
    "\n",
    "# calandar dataset\n",
    "df_calandar = (pl.read_csv(\"../data/ref_calendar.csv\")\n",
    "                 .with_columns(pl.col(DATE_COLUMN).str.to_date())\n",
    "                 .sort([DATE_COLUMN])\n",
    "              )\n",
    "\n",
    "# # indicates whether asset is constituent at time t\n",
    "df_constituents = (pl.read_csv(\"../data/russell1K_constituents_1995_2024_v1.csv\")\n",
    "                     .with_columns(pl.col(DATE_COLUMN).str.to_date())\n",
    "                     .with_columns([pl.lit(True).alias(\"in_universe\")])\n",
    "                     .with_columns((pl.col(DATE_COLUMN) + dt.timedelta(weeks=4)).alias(DATE_COLUMN))\n",
    "                  )"
   ]
  },
  {
   "cell_type": "code",
   "execution_count": 46,
   "id": "37b6cc69-dfed-4a54-9286-8aa84353f6fd",
   "metadata": {},
   "outputs": [
    {
     "data": {
      "text/html": [
       "<div><style>\n",
       ".dataframe > thead > tr,\n",
       ".dataframe > tbody > tr {\n",
       "  text-align: right;\n",
       "  white-space: pre-wrap;\n",
       "}\n",
       "</style>\n",
       "<small>shape: (5, 20)</small><table border=\"1\" class=\"dataframe\"><thead><tr><th>date</th><th>px_open</th><th>high</th><th>low</th><th>px_last</th><th>px_volume</th><th>cur_mkt_cap</th><th>pe_ratio</th><th>px_to_book_ratio</th><th>px_to_sales_ratio</th><th>short_int_ratio</th><th>si_percent_equity_float</th><th>eqy_dvd_yld_ind</th><th>asset_id</th><th>gics_sector_name</th><th>gics_industry_name</th><th>asset_name</th><th>px_market</th><th>bics_level_1_sector_name</th><th>bics_level_2_industry_group_name</th></tr><tr><td>date</td><td>f64</td><td>f64</td><td>f64</td><td>f64</td><td>f64</td><td>f64</td><td>f64</td><td>f64</td><td>f64</td><td>f64</td><td>f64</td><td>f64</td><td>str</td><td>cat</td><td>cat</td><td>str</td><td>f64</td><td>str</td><td>str</td></tr></thead><tbody><tr><td>1995-01-03</td><td>2.3036</td><td>2.3572</td><td>2.2768</td><td>2.3572</td><td>19300.0</td><td>null</td><td>null</td><td>null</td><td>null</td><td>null</td><td>null</td><td>11.4543</td><td>&quot;BBG000B9X5K7 F…</td><td>null</td><td>null</td><td>&quot;8215820Q US Eq…</td><td>244.054</td><td>null</td><td>null</td></tr><tr><td>1995-01-03</td><td>0.292</td><td>0.292</td><td>0.285</td><td>0.288</td><td>1.038688e8</td><td>4587.4626</td><td>8.4759</td><td>1.5112</td><td>0.4058</td><td>null</td><td>null</td><td>1.4864</td><td>&quot;BBG000B9XRY4 F…</td><td>&quot;Information Te…</td><td>&quot;Technology Har…</td><td>&quot;AAPL US Equity…</td><td>244.054</td><td>&quot;Technology&quot;</td><td>&quot;Tech Hardware …</td></tr><tr><td>1995-01-03</td><td>9.5311</td><td>9.8182</td><td>9.4737</td><td>9.7608</td><td>196400.0</td><td>445.5487</td><td>10.7854</td><td>1.0568</td><td>0.208</td><td>null</td><td>null</td><td>1.5368</td><td>&quot;BBG000B9YDD7 F…</td><td>null</td><td>null</td><td>&quot;ABF US Equity&quot;</td><td>244.054</td><td>null</td><td>null</td></tr><tr><td>1995-01-03</td><td>1.568</td><td>1.568</td><td>1.5395</td><td>1.5395</td><td>11074.0</td><td>336.636</td><td>3.1225</td><td>0.2606</td><td>0.5042</td><td>null</td><td>null</td><td>45.7512</td><td>&quot;BBG000B9YSK6 F…</td><td>&quot;Real Estate&quot;</td><td>&quot;Retail REITs&quot;</td><td>&quot;CBLAQ US Equit…</td><td>244.054</td><td>null</td><td>null</td></tr><tr><td>1995-01-03</td><td>4.3563</td><td>4.3563</td><td>4.2943</td><td>4.3098</td><td>24533.0</td><td>167.6687</td><td>19.9009</td><td>4.6776</td><td>2.1631</td><td>null</td><td>null</td><td>1.0441</td><td>&quot;BBG000B9YST7 F…</td><td>null</td><td>null</td><td>&quot;DLP US Equity&quot;</td><td>244.054</td><td>null</td><td>null</td></tr></tbody></table></div>"
      ],
      "text/plain": [
       "shape: (5, 20)\n",
       "┌────────────┬─────────┬────────┬────────┬───┬────────────────────┬───────────┬────────────────────┬───────────────────┐\n",
       "│ date       ┆ px_open ┆ high   ┆ low    ┆ … ┆ asset_name         ┆ px_market ┆ bics_level_1_secto ┆ bics_level_2_indu │\n",
       "│ ---        ┆ ---     ┆ ---    ┆ ---    ┆   ┆ ---                ┆ ---       ┆ r_name             ┆ stry_group_name   │\n",
       "│ date       ┆ f64     ┆ f64    ┆ f64    ┆   ┆ str                ┆ f64       ┆ ---                ┆ ---               │\n",
       "│            ┆         ┆        ┆        ┆   ┆                    ┆           ┆ str                ┆ str               │\n",
       "╞════════════╪═════════╪════════╪════════╪═══╪════════════════════╪═══════════╪════════════════════╪═══════════════════╡\n",
       "│ 1995-01-03 ┆ 2.3036  ┆ 2.3572 ┆ 2.2768 ┆ … ┆ 8215820Q US Equity ┆ 244.054   ┆ null               ┆ null              │\n",
       "│ 1995-01-03 ┆ 0.292   ┆ 0.292  ┆ 0.285  ┆ … ┆ AAPL US Equity     ┆ 244.054   ┆ Technology         ┆ Tech Hardware &   │\n",
       "│            ┆         ┆        ┆        ┆   ┆                    ┆           ┆                    ┆ Semiconductors    │\n",
       "│ 1995-01-03 ┆ 9.5311  ┆ 9.8182 ┆ 9.4737 ┆ … ┆ ABF US Equity      ┆ 244.054   ┆ null               ┆ null              │\n",
       "│ 1995-01-03 ┆ 1.568   ┆ 1.568  ┆ 1.5395 ┆ … ┆ CBLAQ US Equity    ┆ 244.054   ┆ null               ┆ null              │\n",
       "│ 1995-01-03 ┆ 4.3563  ┆ 4.3563 ┆ 4.2943 ┆ … ┆ DLP US Equity      ┆ 244.054   ┆ null               ┆ null              │\n",
       "└────────────┴─────────┴────────┴────────┴───┴────────────────────┴───────────┴────────────────────┴───────────────────┘"
      ]
     },
     "execution_count": 46,
     "metadata": {},
     "output_type": "execute_result"
    }
   ],
   "source": [
    "df_data.head()"
   ]
  },
  {
   "cell_type": "code",
   "execution_count": null,
   "id": "ccb52ebb-ceeb-434f-862e-2c66c581e38b",
   "metadata": {},
   "outputs": [],
   "source": [
    "# quick check if we have approx 1000 constituents over time\n",
    "(df_constituents.group_by([\"date\"]).agg(pl.col(\"asset_id\")\n",
    "               .count().alias(\"nr_assets\"))\n",
    "               .to_pandas()\n",
    "               .set_index(\"date\")[\"nr_assets\"].plot()\n",
    ");"
   ]
  }
 ],
 "metadata": {
  "kernelspec": {
   "display_name": "Python 3 (ipykernel)",
   "language": "python",
   "name": "python3"
  },
  "language_info": {
   "codemirror_mode": {
    "name": "ipython",
    "version": 3
   },
   "file_extension": ".py",
   "mimetype": "text/x-python",
   "name": "python",
   "nbconvert_exporter": "python",
   "pygments_lexer": "ipython3",
   "version": "3.11.7"
  }
 },
 "nbformat": 4,
 "nbformat_minor": 5
}
